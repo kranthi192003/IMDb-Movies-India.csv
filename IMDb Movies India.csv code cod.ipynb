{
 "cells": [
  {
   "cell_type": "code",
   "execution_count": 1,
   "id": "9504a9c0",
   "metadata": {},
   "outputs": [],
   "source": [
    "import pandas as pd\n",
    "import numpy as np\n",
    "import matplotlib.pyplot as plt\n",
    "from sklearn.model_selection import train_test_split\n",
    "from sklearn.ensemble import RandomForestRegressor\n",
    "from sklearn.preprocessing import OneHotEncoder\n",
    "from sklearn.compose import ColumnTransformer\n",
    "from sklearn.impute import SimpleImputer\n",
    "from sklearn.metrics import mean_absolute_error, mean_squared_error, r2_score\n",
    "from imblearn.under_sampling import RandomUnderSampler\n"
   ]
  },
  {
   "cell_type": "code",
   "execution_count": 2,
   "id": "de3adf6b",
   "metadata": {},
   "outputs": [],
   "source": [
    "df = pd.read_csv(r\"C:\\Users\\koush\\Downloads\\IMDb Movies India.csv\\IMDb Movies India.csv\", encoding='latin1')"
   ]
  },
  {
   "cell_type": "code",
   "execution_count": 3,
   "id": "f8b07015",
   "metadata": {},
   "outputs": [
    {
     "name": "stdout",
     "output_type": "stream",
     "text": [
      "The dataset has 15509 rows and 10 columns.\n",
      "Columns: ['Name', 'Year', 'Duration', 'Genre', 'Rating', 'Votes', 'Director', 'Actor 1', 'Actor 2', 'Actor 3']\n"
     ]
    }
   ],
   "source": [
    "print(f\"The dataset has {df.shape[0]} rows and {df.shape[1]} columns.\")\n",
    "print(\"Columns:\", df.columns.tolist())"
   ]
  },
  {
   "cell_type": "code",
   "execution_count": 4,
   "id": "37999cfa",
   "metadata": {},
   "outputs": [],
   "source": [
    "df = df[['Genre', 'Director', 'Actor 1', 'Year', 'Rating']]"
   ]
  },
  {
   "cell_type": "code",
   "execution_count": 5,
   "id": "84c1ba4d",
   "metadata": {},
   "outputs": [],
   "source": [
    "df.dropna(inplace=True)"
   ]
  },
  {
   "cell_type": "code",
   "execution_count": 6,
   "id": "5e97f6ef",
   "metadata": {},
   "outputs": [],
   "source": [
    "df = df[df['Rating'].apply(lambda x: str(x).replace('.', '', 1).isdigit())]\n",
    "df['Rating'] = df['Rating'].astype(float)"
   ]
  },
  {
   "cell_type": "code",
   "execution_count": 7,
   "id": "b77324cd",
   "metadata": {},
   "outputs": [],
   "source": [
    "df['rating_class'] = df['Rating'].round().astype(int)"
   ]
  },
  {
   "cell_type": "code",
   "execution_count": 8,
   "id": "1dca4b18",
   "metadata": {},
   "outputs": [
    {
     "name": "stdout",
     "output_type": "stream",
     "text": [
      "Distribution of rounded ratings:\n",
      " 6     2285\n",
      "7     1789\n",
      "5     1389\n",
      "4     1014\n",
      "8      700\n",
      "3      350\n",
      "2       92\n",
      "9       83\n",
      "10       3\n",
      "1        2\n",
      "Name: rating_class, dtype: int64\n"
     ]
    }
   ],
   "source": [
    "print(\"Distribution of rounded ratings:\\n\", df['rating_class'].value_counts())"
   ]
  },
  {
   "cell_type": "code",
   "execution_count": 9,
   "id": "e8c3d4b2",
   "metadata": {},
   "outputs": [],
   "source": [
    "X = df[['Genre', 'Director', 'Actor 1', 'Year']]\n",
    "y = df['Rating']\n",
    "rating_class = df['rating_class']"
   ]
  },
  {
   "cell_type": "code",
   "execution_count": 13,
   "id": "f70b0ead",
   "metadata": {},
   "outputs": [],
   "source": [
    "df['Year'] = df['Year'].astype(str).str.extract(r'(\\d{4})').astype(int)"
   ]
  },
  {
   "cell_type": "code",
   "execution_count": 14,
   "id": "2414b7f1",
   "metadata": {},
   "outputs": [],
   "source": [
    "X = df[['Genre', 'Director', 'Actor 1', 'Year']]\n",
    "X_processed = preprocessor.fit_transform(X)"
   ]
  },
  {
   "cell_type": "code",
   "execution_count": 15,
   "id": "47c9d2d8",
   "metadata": {},
   "outputs": [],
   "source": [
    "categorical_cols = ['Genre', 'Director', 'Actor 1']\n",
    "numeric_cols = ['Year']\n",
    "\n",
    "preprocessor = ColumnTransformer([\n",
    "    ('categorical', OneHotEncoder(handle_unknown='ignore'), categorical_cols),\n",
    "    ('numeric', SimpleImputer(strategy='mean'), numeric_cols)\n",
    "])\n",
    "\n",
    "X_processed = preprocessor.fit_transform(X)\n"
   ]
  },
  {
   "cell_type": "code",
   "execution_count": 17,
   "id": "69b28f95",
   "metadata": {},
   "outputs": [],
   "source": [
    "rus = RandomUnderSampler(random_state=42)"
   ]
  },
  {
   "cell_type": "code",
   "execution_count": 18,
   "id": "2160893e",
   "metadata": {},
   "outputs": [],
   "source": [
    "X_resampled, rating_class_resampled = rus.fit_resample(X_processed, rating_class)"
   ]
  },
  {
   "cell_type": "code",
   "execution_count": 20,
   "id": "28ee189b",
   "metadata": {},
   "outputs": [],
   "source": [
    "X_resampled, rating_class_resampled = rus.fit_resample(X_processed, rating_class)\n",
    "\n",
    "resample_indices = rus.sample_indices_\n",
    "y_resampled = y.iloc[resample_indices].reset_index(drop=True)\n"
   ]
  },
  {
   "cell_type": "code",
   "execution_count": 21,
   "id": "0aa3ae92",
   "metadata": {},
   "outputs": [],
   "source": [
    "\n",
    "\n",
    "X_train, X_test, y_train, y_test = train_test_split(\n",
    "    X_resampled, y_resampled, test_size=0.2, random_state=42)\n"
   ]
  },
  {
   "cell_type": "code",
   "execution_count": 22,
   "id": "1ae2f44c",
   "metadata": {},
   "outputs": [
    {
     "data": {
      "text/plain": [
       "RandomForestRegressor(random_state=42)"
      ]
     },
     "execution_count": 22,
     "metadata": {},
     "output_type": "execute_result"
    }
   ],
   "source": [
    "model = RandomForestRegressor(n_estimators=100, random_state=42)\n",
    "model.fit(X_train, y_train)\n"
   ]
  },
  {
   "cell_type": "code",
   "execution_count": 23,
   "id": "d7612397",
   "metadata": {},
   "outputs": [],
   "source": [
    "y_pred = model.predict(X_test)\n"
   ]
  },
  {
   "cell_type": "code",
   "execution_count": 24,
   "id": "4fc8fadb",
   "metadata": {},
   "outputs": [],
   "source": [
    "mae = mean_absolute_error(y_test, y_pred)\n",
    "rmse = np.sqrt(mean_squared_error(y_test, y_pred))\n",
    "r2 = r2_score(y_test, y_pred)"
   ]
  },
  {
   "cell_type": "code",
   "execution_count": 25,
   "id": "95fc8c6e",
   "metadata": {},
   "outputs": [
    {
     "name": "stdout",
     "output_type": "stream",
     "text": [
      "\n",
      "Model Performance:\n",
      "Mean Absolute Error: 3.63\n",
      "Root Mean Squared Error: 3.98\n",
      "R² Score: -0.27\n"
     ]
    }
   ],
   "source": [
    "print(\"\\nModel Performance:\")\n",
    "print(f\"Mean Absolute Error: {mae:.2f}\")\n",
    "print(f\"Root Mean Squared Error: {rmse:.2f}\")\n",
    "print(f\"R² Score: {r2:.2f}\")"
   ]
  },
  {
   "cell_type": "code",
   "execution_count": 28,
   "id": "1eafaa96",
   "metadata": {},
   "outputs": [
    {
     "name": "stdout",
     "output_type": "stream",
     "text": [
      "\n",
      "Model Performance:\n",
      "Mean Absolute Error: 3.63\n",
      "Root Mean Squared Error: 3.98\n",
      "R² Score: -0.27\n"
     ]
    }
   ],
   "source": [
    "print(\"\\nModel Performance:\")\n",
    "print(f\"Mean Absolute Error: {mae:.2f}\")\n",
    "print(f\"Root Mean Squared Error: {rmse:.2f}\")\n",
    "print(f\"R² Score: {r2:.2f}\")"
   ]
  },
  {
   "cell_type": "code",
   "execution_count": null,
   "id": "4b27fc15",
   "metadata": {},
   "outputs": [],
   "source": []
  }
 ],
 "metadata": {
  "kernelspec": {
   "display_name": "base",
   "language": "python",
   "name": "python3"
  },
  "language_info": {
   "codemirror_mode": {
    "name": "ipython",
    "version": 3
   },
   "file_extension": ".py",
   "mimetype": "text/x-python",
   "name": "python",
   "nbconvert_exporter": "python",
   "pygments_lexer": "ipython3",
   "version": "3.9.13"
  }
 },
 "nbformat": 4,
 "nbformat_minor": 5
}
